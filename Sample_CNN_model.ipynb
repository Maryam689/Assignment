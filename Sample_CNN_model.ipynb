{
  "nbformat": 4,
  "nbformat_minor": 0,
  "metadata": {
    "colab": {
      "provenance": []
    },
    "kernelspec": {
      "name": "python3",
      "display_name": "Python 3"
    },
    "language_info": {
      "name": "python"
    }
  },
  "cells": [
    {
      "cell_type": "code",
      "execution_count": null,
      "metadata": {
        "colab": {
          "base_uri": "https://localhost:8080/"
        },
        "id": "F8JUkyCSEUrH",
        "outputId": "06554dcb-342d-40c3-b645-821102e5e021"
      },
      "outputs": [
        {
          "output_type": "stream",
          "name": "stdout",
          "text": [
            "Mounted at /content/drive\n"
          ]
        }
      ],
      "source": [
        "#My dataset is available in googledrive; so I am accessing my drive from colab\n",
        "from google.colab import drive\n",
        "drive.mount('/content/drive', force_remount=True)\n",
        "#Once this is executed, you will see your drive appearing on the left hand side"
      ]
    },
    {
      "cell_type": "code",
      "source": [
        "# Define paths to the dataset\n",
        "train_dir = '/content/drive/MyDrive/traindata'  # Update with your actual path\n",
        "test_dir = '/content/drive/MyDrive/testdata'    # Update with your actual path"
      ],
      "metadata": {
        "id": "v5hkphveEyb_"
      },
      "execution_count": null,
      "outputs": []
    },
    {
      "cell_type": "code",
      "source": [
        "import os\n",
        "print(len(os.listdir('/content/drive/MyDrive/traindata/men')))\n",
        "print(len(os.listdir('/content/drive/MyDrive/traindata/women')))\n",
        "print(len(os.listdir('/content/drive/MyDrive/testdata/men')))\n",
        "print(len(os.listdir('/content/drive/MyDrive/testdata/women')))"
      ],
      "metadata": {
        "colab": {
          "base_uri": "https://localhost:8080/"
        },
        "id": "LUrpp6DRFf6m",
        "outputId": "6286f603-14a5-4fac-b84a-267021149aa6"
      },
      "execution_count": null,
      "outputs": [
        {
          "output_type": "stream",
          "name": "stdout",
          "text": [
            "1000\n",
            "1912\n",
            "418\n",
            "915\n"
          ]
        }
      ]
    },
    {
      "cell_type": "code",
      "source": [
        "import tensorflow as tf\n",
        "from tensorflow.keras.preprocessing.image import ImageDataGenerator\n",
        "\n",
        "# Create ImageDataGenerator for training set\n",
        "train_datagen = ImageDataGenerator(\n",
        "    rescale=1./255,\n",
        "    validation_split=0.2  # Split 20% of the images for validation\n",
        ")\n",
        "\n",
        "# Load and prepare training data\n",
        "train_data = train_datagen.flow_from_directory(\n",
        "    train_dir,\n",
        "    target_size=(256,256),\n",
        "    batch_size=32,\n",
        "    class_mode='binary',  # 'binary' for binary classification (men vs. women)\n",
        "    subset='training'  # Specify 'training' for the training set\n",
        ")\n",
        "\n",
        "# Create ImageDataGenerator for validation set\n",
        "validation_datagen = ImageDataGenerator(\n",
        "    rescale=1./255,\n",
        "    validation_split=0.2  # Note: Using the same validation split as in the training set\n",
        ")\n",
        "\n",
        "# Load and prepare validation data\n",
        "validation_data = validation_datagen.flow_from_directory(\n",
        "    train_dir,\n",
        "    target_size=(256,256),\n",
        "    batch_size=32,\n",
        "    class_mode='binary',\n",
        "    subset='validation'  # Specify 'validation' for the validation set\n",
        ")"
      ],
      "metadata": {
        "colab": {
          "base_uri": "https://localhost:8080/"
        },
        "id": "nik-2ejqF7fg",
        "outputId": "36aab908-8fd1-4f27-ff50-6f2fc45c8a8d"
      },
      "execution_count": null,
      "outputs": [
        {
          "output_type": "stream",
          "name": "stdout",
          "text": [
            "Found 2313 images belonging to 2 classes.\n",
            "Found 578 images belonging to 2 classes.\n"
          ]
        }
      ]
    },
    {
      "cell_type": "code",
      "source": [
        "from tensorflow import keras\n",
        "from keras import Sequential\n",
        "from keras.layers import Dense,Conv2D,MaxPooling2D,Flatten,BatchNormalization,UpSampling2D, Dropout"
      ],
      "metadata": {
        "id": "MSjShSSjGIAv"
      },
      "execution_count": null,
      "outputs": []
    },
    {
      "cell_type": "code",
      "source": [
        "# create CNN model\n",
        "\n",
        "model = Sequential()\n",
        "\n",
        "model.add(Conv2D(32,kernel_size=(3,3),padding='valid',activation='relu',input_shape=(256,256,3)))  # 32 filters\n",
        "#model.add(BatchNormalization())  # added to reduce overfitting\n",
        "model.add(MaxPooling2D(pool_size=(2,2),strides=2,padding='valid'))\n",
        "\n",
        "model.add(Conv2D(64,kernel_size=(3,3),padding='valid',activation='relu'))\n",
        "#model.add(BatchNormalization())  # added to reduce overfitting\n",
        "model.add(MaxPooling2D(pool_size=(2,2),strides=2,padding='valid'))\n",
        "\n",
        "model.add(Conv2D(128,kernel_size=(3,3),padding='valid',activation='relu'))\n",
        "#model.add(BatchNormalization())  # added to reduce overfitting\n",
        "model.add(MaxPooling2D(pool_size=(2,2),strides=2,padding='valid'))\n",
        "\n",
        "model.add(Flatten())\n",
        "\n",
        "model.add(Dense(128,activation='relu')) #feature reduction\n",
        "#model.add(Dropout(0.1))  # added to reduce overfitting\n",
        "model.add(Dense(64,activation='relu'))\n",
        "#model.add(Dropout(0.1))  # added to reduce overfitting\n",
        "model.add(Dense(1,activation='sigmoid'))  #output layer"
      ],
      "metadata": {
        "id": "sBkSQtCoGLjz"
      },
      "execution_count": null,
      "outputs": []
    },
    {
      "cell_type": "code",
      "source": [
        "from keras.optimizers import Adam\n",
        "model.compile(optimizer=Adam(learning_rate=0.001),loss='binary_crossentropy',metrics=['accuracy']) #binary_crossentropy - binary classification"
      ],
      "metadata": {
        "id": "ydghpucUGNPu"
      },
      "execution_count": null,
      "outputs": []
    },
    {
      "cell_type": "code",
      "source": [
        "history = model.fit(train_data, epochs=30, validation_data=validation_data)"
      ],
      "metadata": {
        "colab": {
          "base_uri": "https://localhost:8080/"
        },
        "id": "oGhfLSIbGTQS",
        "outputId": "dcb889e1-7b7c-4b3f-d2fc-62d7889830d5"
      },
      "execution_count": null,
      "outputs": [
        {
          "output_type": "stream",
          "name": "stdout",
          "text": [
            "Epoch 1/30\n",
            "73/73 [==============================] - 1228s 17s/step - loss: 0.7590 - accuracy: 0.6494 - val_loss: 0.6110 - val_accuracy: 0.6696\n",
            "Epoch 2/30\n",
            "73/73 [==============================] - 409s 6s/step - loss: 0.6066 - accuracy: 0.6835 - val_loss: 0.6457 - val_accuracy: 0.6298\n",
            "Epoch 3/30\n",
            "73/73 [==============================] - 416s 6s/step - loss: 0.5765 - accuracy: 0.7099 - val_loss: 0.6153 - val_accuracy: 0.6799\n",
            "Epoch 4/30\n",
            "73/73 [==============================] - 420s 6s/step - loss: 0.5011 - accuracy: 0.7562 - val_loss: 0.7070 - val_accuracy: 0.6886\n",
            "Epoch 5/30\n",
            "73/73 [==============================] - 411s 6s/step - loss: 0.4126 - accuracy: 0.7964 - val_loss: 0.7078 - val_accuracy: 0.6678\n",
            "Epoch 6/30\n",
            "73/73 [==============================] - 408s 6s/step - loss: 0.2757 - accuracy: 0.8755 - val_loss: 1.0365 - val_accuracy: 0.6938\n",
            "Epoch 7/30\n",
            "73/73 [==============================] - 409s 6s/step - loss: 0.1793 - accuracy: 0.9269 - val_loss: 1.6795 - val_accuracy: 0.6834\n",
            "Epoch 8/30\n",
            "73/73 [==============================] - 399s 5s/step - loss: 0.0902 - accuracy: 0.9641 - val_loss: 2.0067 - val_accuracy: 0.6938\n",
            "Epoch 9/30\n",
            "73/73 [==============================] - 398s 5s/step - loss: 0.0512 - accuracy: 0.9810 - val_loss: 2.1645 - val_accuracy: 0.6522\n",
            "Epoch 10/30\n",
            "73/73 [==============================] - 400s 5s/step - loss: 0.0137 - accuracy: 0.9983 - val_loss: 2.7394 - val_accuracy: 0.6522\n",
            "Epoch 11/30\n",
            "73/73 [==============================] - 392s 5s/step - loss: 0.0723 - accuracy: 0.9758 - val_loss: 2.7746 - val_accuracy: 0.6505\n",
            "Epoch 12/30\n",
            "73/73 [==============================] - 408s 6s/step - loss: 0.0774 - accuracy: 0.9810 - val_loss: 2.1258 - val_accuracy: 0.6505\n",
            "Epoch 13/30\n",
            "73/73 [==============================] - 387s 5s/step - loss: 0.0635 - accuracy: 0.9827 - val_loss: 2.2412 - val_accuracy: 0.6626\n",
            "Epoch 14/30\n",
            "73/73 [==============================] - 390s 5s/step - loss: 0.0190 - accuracy: 0.9961 - val_loss: 2.4526 - val_accuracy: 0.6678\n",
            "Epoch 15/30\n",
            "73/73 [==============================] - 380s 5s/step - loss: 0.0040 - accuracy: 0.9996 - val_loss: 2.6573 - val_accuracy: 0.6678\n",
            "Epoch 16/30\n",
            "73/73 [==============================] - 388s 5s/step - loss: 7.3546e-04 - accuracy: 1.0000 - val_loss: 2.9994 - val_accuracy: 0.6730\n",
            "Epoch 17/30\n",
            "73/73 [==============================] - 407s 6s/step - loss: 2.1583e-04 - accuracy: 1.0000 - val_loss: 3.1268 - val_accuracy: 0.6782\n",
            "Epoch 18/30\n",
            "73/73 [==============================] - 392s 5s/step - loss: 1.3566e-04 - accuracy: 1.0000 - val_loss: 3.1807 - val_accuracy: 0.6799\n",
            "Epoch 19/30\n",
            "73/73 [==============================] - 380s 5s/step - loss: 9.6875e-05 - accuracy: 1.0000 - val_loss: 3.2152 - val_accuracy: 0.6765\n",
            "Epoch 20/30\n",
            "73/73 [==============================] - 388s 5s/step - loss: 7.3879e-05 - accuracy: 1.0000 - val_loss: 3.2426 - val_accuracy: 0.6713\n",
            "Epoch 21/30\n",
            "73/73 [==============================] - 407s 6s/step - loss: 5.9615e-05 - accuracy: 1.0000 - val_loss: 3.2919 - val_accuracy: 0.6730\n",
            "Epoch 22/30\n",
            "73/73 [==============================] - 384s 5s/step - loss: 4.8693e-05 - accuracy: 1.0000 - val_loss: 3.3294 - val_accuracy: 0.6713\n",
            "Epoch 23/30\n",
            "73/73 [==============================] - 397s 5s/step - loss: 4.0258e-05 - accuracy: 1.0000 - val_loss: 3.3428 - val_accuracy: 0.6696\n",
            "Epoch 24/30\n",
            "73/73 [==============================] - 398s 5s/step - loss: 3.4130e-05 - accuracy: 1.0000 - val_loss: 3.3733 - val_accuracy: 0.6696\n",
            "Epoch 25/30\n",
            "73/73 [==============================] - 385s 5s/step - loss: 2.9365e-05 - accuracy: 1.0000 - val_loss: 3.3988 - val_accuracy: 0.6678\n",
            "Epoch 26/30\n",
            "73/73 [==============================] - 379s 5s/step - loss: 2.5722e-05 - accuracy: 1.0000 - val_loss: 3.4225 - val_accuracy: 0.6678\n",
            "Epoch 27/30\n",
            "73/73 [==============================] - 386s 5s/step - loss: 2.2598e-05 - accuracy: 1.0000 - val_loss: 3.4436 - val_accuracy: 0.6696\n",
            "Epoch 28/30\n",
            "73/73 [==============================] - 389s 5s/step - loss: 2.0103e-05 - accuracy: 1.0000 - val_loss: 3.4673 - val_accuracy: 0.6696\n",
            "Epoch 29/30\n",
            "73/73 [==============================] - 386s 5s/step - loss: 1.7937e-05 - accuracy: 1.0000 - val_loss: 3.4834 - val_accuracy: 0.6678\n",
            "Epoch 30/30\n",
            "73/73 [==============================] - 386s 5s/step - loss: 1.6119e-05 - accuracy: 1.0000 - val_loss: 3.4992 - val_accuracy: 0.6661\n"
          ]
        }
      ]
    },
    {
      "cell_type": "code",
      "source": [
        "import matplotlib.pyplot as plt\n",
        "\n",
        "plt.plot(history.history['accuracy'],color='red',label='train')\n",
        "plt.plot(history.history['val_accuracy'],color='blue',label='validation')\n",
        "plt.legend()\n",
        "plt.show()"
      ],
      "metadata": {
        "colab": {
          "base_uri": "https://localhost:8080/",
          "height": 430
        },
        "id": "uW9rmjoO6R7F",
        "outputId": "baa5c667-4fcc-4dde-8bcd-ed705fd3f4bf"
      },
      "execution_count": null,
      "outputs": [
        {
          "output_type": "display_data",
          "data": {
            "text/plain": [
              "<Figure size 640x480 with 1 Axes>"
            ],
            "image/png": "[encoded data removed]"
          },
          "metadata": {}
        }
      ]
    },
    {
      "cell_type": "code",
      "source": [
        "plt.plot(history.history['loss'],color='red',label='train')\n",
        "plt.plot(history.history['val_loss'],color='blue',label='validation')\n",
        "plt.legend()\n",
        "plt.show()"
      ],
      "metadata": {
        "colab": {
          "base_uri": "https://localhost:8080/",
          "height": 430
        },
        "id": "6hUGJurK6W4t",
        "outputId": "21e96130-a88d-4d81-d765-f2f6069c4a41"
      },
      "execution_count": null,
      "outputs": [
        {
          "output_type": "display_data",
          "data": {
            "text/plain": [
              "<Figure size 640x480 with 1 Axes>"
            ],
            "image/png": "[encoded data removed]"
          },
          "metadata": {}
        }
      ]
    },
    {
      "cell_type": "code",
      "source": [
        "test_datagen = ImageDataGenerator(rescale=1./255)\n",
        "test_data = test_datagen.flow_from_directory(\n",
        "    test_dir,\n",
        "    target_size=(256,256),\n",
        "    batch_size=32,\n",
        "    class_mode='binary'\n",
        ")"
      ],
      "metadata": {
        "colab": {
          "base_uri": "https://localhost:8080/"
        },
        "id": "9sNpPZia6ff-",
        "outputId": "21ebc42a-c325-426b-fcbd-1570a841b674"
      },
      "execution_count": null,
      "outputs": [
        {
          "output_type": "stream",
          "name": "stdout",
          "text": [
            "Found 1330 images belonging to 2 classes.\n"
          ]
        }
      ]
    },
    {
      "cell_type": "code",
      "source": [
        "#predict the test data\n",
        "predictions = model.predict(test_data)\n",
        "print(predictions)"
      ],
      "metadata": {
        "colab": {
          "base_uri": "https://localhost:8080/"
        },
        "id": "wTw-U-za6h_v",
        "outputId": "258dfb0a-6111-4e97-f820-e804dff8e6a2"
      },
      "execution_count": null,
      "outputs": [
        {
          "output_type": "stream",
          "name": "stdout",
          "text": [
            "42/42 [==============================] - 80s 2s/step\n",
            "[[1.        ]\n",
            " [0.9992945 ]\n",
            " [0.99994123]\n",
            " ...\n",
            " [1.        ]\n",
            " [0.999892  ]\n",
            " [0.02926282]]\n"
          ]
        }
      ]
    },
    {
      "cell_type": "code",
      "source": [
        "len(predictions)"
      ],
      "metadata": {
        "colab": {
          "base_uri": "https://localhost:8080/"
        },
        "id": "LM91SgVc9SJS",
        "outputId": "72659bba-1186-4627-987a-8d5c01600877"
      },
      "execution_count": null,
      "outputs": [
        {
          "output_type": "execute_result",
          "data": {
            "text/plain": [
              "1330"
            ]
          },
          "metadata": {},
          "execution_count": 14
        }
      ]
    },
    {
      "cell_type": "code",
      "source": [
        "from sklearn.metrics import confusion_matrix, classification_report\n",
        "\n",
        "# Assuming you have ground truth labels (true_labels) and predicted labels (predictions)\n",
        "true_labels = test_data.classes\n",
        "predicted_labels = (predictions > 0.5).astype(int)  # Adjust the threshold as needed\n",
        "\n",
        "# Calculate confusion matrix\n",
        "cm = confusion_matrix(true_labels, predicted_labels)\n",
        "\n",
        "# Print confusion matrix\n",
        "print(\"Confusion Matrix:\")\n",
        "print(cm)\n",
        "\n",
        "# Print classification report\n",
        "print(\"Classification Report:\")\n",
        "print(classification_report(true_labels, predicted_labels))"
      ],
      "metadata": {
        "id": "slOAPxH-9XC5",
        "outputId": "f74822ce-f329-4402-848c-c47934620a93",
        "colab": {
          "base_uri": "https://localhost:8080/"
        }
      },
      "execution_count": null,
      "outputs": [
        {
          "output_type": "stream",
          "name": "stdout",
          "text": [
            "Confusion Matrix:\n",
            "[[ 89 329]\n",
            " [191 721]]\n",
            "Classification Report:\n",
            "              precision    recall  f1-score   support\n",
            "\n",
            "           0       0.32      0.21      0.26       418\n",
            "           1       0.69      0.79      0.73       912\n",
            "\n",
            "    accuracy                           0.61      1330\n",
            "   macro avg       0.50      0.50      0.49      1330\n",
            "weighted avg       0.57      0.61      0.58      1330\n",
            "\n"
          ]
        }
      ]
    }
  ]
}